{
  "nbformat": 4,
  "nbformat_minor": 0,
  "metadata": {
    "colab": {
      "provenance": [],
      "authorship_tag": "ABX9TyNjlwrCh+5gn8Fh7ghGFBnG",
      "include_colab_link": true
    },
    "kernelspec": {
      "name": "python3",
      "display_name": "Python 3"
    },
    "language_info": {
      "name": "python"
    }
  },
  "cells": [
    {
      "cell_type": "markdown",
      "metadata": {
        "id": "view-in-github",
        "colab_type": "text"
      },
      "source": [
        "<a href=\"https://colab.research.google.com/github/NicolasJasonDL/58003-OOP/blob/main/Control_Structure.ipynb\" target=\"_parent\"><img src=\"https://colab.research.google.com/assets/colab-badge.svg\" alt=\"Open In Colab\"/></a>"
      ]
    },
    {
      "cell_type": "markdown",
      "source": [
        "#If and Elif Condition"
      ],
      "metadata": {
        "id": "zSUvT7gC7vvk"
      }
    },
    {
      "cell_type": "code",
      "execution_count": 3,
      "metadata": {
        "colab": {
          "base_uri": "https://localhost:8080/"
        },
        "id": "MYIL99vx7hDm",
        "outputId": "620555f0-35c2-4a87-f930-662c5f077ddf"
      },
      "outputs": [
        {
          "output_type": "stream",
          "name": "stdout",
          "text": [
            "Three is less than five\n"
          ]
        }
      ],
      "source": [
        "if 3>5:\n",
        "  print(\"Three is greater than five\")\n",
        "elif 3<5:\n",
        "  print(\"Three is less than five\")"
      ]
    },
    {
      "cell_type": "markdown",
      "source": [
        "#If, Elif and Else Condition"
      ],
      "metadata": {
        "id": "rfC7tIMY95Ib"
      }
    },
    {
      "cell_type": "code",
      "source": [
        "if 3>2:\n",
        "  print(\"Three is greater than two\")\n",
        "elif 3==2:\n",
        "  print(\"Three is equal tot wo\")\n",
        "else:\n",
        "  print(\"Three is less than two\")"
      ],
      "metadata": {
        "colab": {
          "base_uri": "https://localhost:8080/"
        },
        "id": "N4qQubJL98tT",
        "outputId": "44da4e66-b00f-4335-bac0-ede9a02a87d6"
      },
      "execution_count": 4,
      "outputs": [
        {
          "output_type": "stream",
          "name": "stdout",
          "text": [
            "Three is greater than two\n"
          ]
        }
      ]
    },
    {
      "cell_type": "markdown",
      "source": [
        "#Application 1 - create a python program that will compare if the student is in Elementary, Secondary, Tertiary level"
      ],
      "metadata": {
        "id": "vn-vXu_T-af6"
      }
    },
    {
      "cell_type": "code",
      "source": [
        "gl=int(input(\"Input your Grade Level.\\n1-6 - Elementary\\n7-12 - Secondary\\nNone of the Above - Tertiary \\n\"))\n",
        "if(gl==1 or gl==2 or gl==3 or gl==4 or gl==5 or gl==6):\n",
        "  print(\"Elementary\")\n",
        "elif(gl==7 or gl==8 or gl==9 or gl==10 or gl==11 or gl==12):\n",
        "  print(\"Secondary\")\n",
        "else:\n",
        "  print(\"Tertiary\")"
      ],
      "metadata": {
        "colab": {
          "base_uri": "https://localhost:8080/"
        },
        "id": "74w8wd1f_AFC",
        "outputId": "45b00b2f-7557-480a-d3a9-8fc3ab274311"
      },
      "execution_count": 22,
      "outputs": [
        {
          "output_type": "stream",
          "name": "stdout",
          "text": [
            "Input your Grade Level.\n",
            "1-6 - Elementary\n",
            "7-12 - Secondary\n",
            "None of the Above - Tertiary \n",
            "0\n",
            "Tertiary\n"
          ]
        }
      ]
    },
    {
      "cell_type": "code",
      "source": [
        "gl=int(input(\"Input your Grade Level.\\n1-6 - Elementary\\n7-12 - Secondary\\nNone of the Above - Tertiary \\n\"))\n",
        "if(gl<=6):\n",
        "  print(\"Elementary\")\n",
        "elif(gl<=12):\n",
        "  print(\"Secondary\")\n",
        "else:\n",
        "  print(\"Tertiary\")"
      ],
      "metadata": {
        "colab": {
          "base_uri": "https://localhost:8080/"
        },
        "id": "Z77-Szta_sIj",
        "outputId": "664bbdd2-5f31-47c2-f408-9e0ede4c3f94"
      },
      "execution_count": 24,
      "outputs": [
        {
          "output_type": "stream",
          "name": "stdout",
          "text": [
            "Input your Grade Level.\n",
            "1-6 - Elementary\n",
            "7-12 - Secondary\n",
            "None of the Above - Tertiary \n",
            "0\n",
            "Elementary\n"
          ]
        }
      ]
    },
    {
      "cell_type": "markdown",
      "source": [
        "#Short Hand If Statement"
      ],
      "metadata": {
        "id": "YArPdByiBu65"
      }
    },
    {
      "cell_type": "code",
      "source": [
        "a = 2\n",
        "b = 350\n",
        "print(\"A\") if a>b else print(\"B\")"
      ],
      "metadata": {
        "colab": {
          "base_uri": "https://localhost:8080/"
        },
        "id": "yFrpj0KABwVR",
        "outputId": "7710224a-e4ec-4413-b0f8-f4c0cc6cfa83"
      },
      "execution_count": 25,
      "outputs": [
        {
          "output_type": "stream",
          "name": "stdout",
          "text": [
            "B\n"
          ]
        }
      ]
    },
    {
      "cell_type": "markdown",
      "source": [
        "#Short Hand If... Else Statement"
      ],
      "metadata": {
        "id": "v8UU55mACpUb"
      }
    },
    {
      "cell_type": "code",
      "source": [
        "print(\"a is less than b\") if a<b else print(\"a is greather than b\")"
      ],
      "metadata": {
        "colab": {
          "base_uri": "https://localhost:8080/"
        },
        "id": "lltNBhRkCpAi",
        "outputId": "efd6bbea-0b6a-45f5-dfe0-433112b34f93"
      },
      "execution_count": 26,
      "outputs": [
        {
          "output_type": "stream",
          "name": "stdout",
          "text": [
            "a is less than b\n"
          ]
        }
      ]
    },
    {
      "cell_type": "markdown",
      "source": [
        "#Nested If Statement"
      ],
      "metadata": {
        "id": "U8m3YspPDjeq"
      }
    },
    {
      "cell_type": "code",
      "source": [
        "x = float(input(\"Input your chosen number \\n\"))\n",
        "\n",
        "if x>10:\n",
        "  print(\"Above 10\")\n",
        "  if x>20:\n",
        "    print(\"Above 20\")\n",
        "    if x>30:\n",
        "      print(\"Above 30\")\n",
        "      if x>40:\n",
        "        print(\"Above 40\")\n",
        "        if x>50:\n",
        "          print(\"Above 50\")\n",
        "        else:\n",
        "          print(\"Below 50\")\n",
        "      else:\n",
        "        print(\"Below 40\")\n",
        "    else:\n",
        "      print(\"Below 30\")\n",
        "  else:\n",
        "    print(\"Below 20\")\n",
        "else:\n",
        "  print(\"Below 10\")"
      ],
      "metadata": {
        "colab": {
          "base_uri": "https://localhost:8080/"
        },
        "id": "ltv2ZMz4DleC",
        "outputId": "7c050d75-df36-46e2-efd7-431b0aeb85fc"
      },
      "execution_count": 63,
      "outputs": [
        {
          "output_type": "stream",
          "name": "stdout",
          "text": [
            "Input your chosen number \n",
            "36\n",
            "Above 10\n",
            "Above 20\n",
            "Above 30\n",
            "Below 40\n"
          ]
        }
      ]
    },
    {
      "cell_type": "markdown",
      "source": [
        "#Example 1"
      ],
      "metadata": {
        "id": "2BPjj-ljJ933"
      }
    },
    {
      "cell_type": "code",
      "source": [
        "age=int(input(\"Enter your Age: \"))\n",
        "if age>= 18:\n",
        "  print(\"Eligible to vote\")\n",
        "else:\n",
        "  print(\"Not eligible to vote\")"
      ],
      "metadata": {
        "colab": {
          "base_uri": "https://localhost:8080/"
        },
        "id": "XwEDGtmFJ-qn",
        "outputId": "5c8821f5-fb20-468d-b8c7-ca22676daf68"
      },
      "execution_count": 79,
      "outputs": [
        {
          "output_type": "stream",
          "name": "stdout",
          "text": [
            "Enter your Age: 18\n",
            "Eligible to vote\n"
          ]
        }
      ]
    },
    {
      "cell_type": "markdown",
      "source": [
        "#Example 2"
      ],
      "metadata": {
        "id": "s80uUycTLlMI"
      }
    },
    {
      "cell_type": "code",
      "source": [
        "x=int(input(\"Determine if the number is negative, positive, or zero: \"))\n",
        "if x>0:\n",
        "  print(\"Positive\")\n",
        "elif x==0:\n",
        "  print(\"Zero\")\n",
        "else:\n",
        "  print(\"Negative\")"
      ],
      "metadata": {
        "colab": {
          "base_uri": "https://localhost:8080/"
        },
        "id": "hCrZNrhrLoGQ",
        "outputId": "5cba13ad-958c-41e6-b1fe-d47f827ada42"
      },
      "execution_count": 83,
      "outputs": [
        {
          "output_type": "stream",
          "name": "stdout",
          "text": [
            "Determine if the number is negative, positive, or zero: -1\n",
            "Negative\n"
          ]
        }
      ]
    },
    {
      "cell_type": "markdown",
      "source": [
        "#Example 3"
      ],
      "metadata": {
        "id": "ANizAyD2IWwI"
      }
    },
    {
      "cell_type": "code",
      "source": [
        "grade=float(input(\"Enter your Grade: \"))\n",
        "if grade>=70:\n",
        "  print(\"Passed\")\n",
        "elif grade>=65:\n",
        "  print(\"Remedial\")\n",
        "else:\n",
        "  print(\"Failed\")"
      ],
      "metadata": {
        "colab": {
          "base_uri": "https://localhost:8080/"
        },
        "id": "aF9inQ-KIu0Y",
        "outputId": "265b8155-d1dd-45b2-f804-dd438a8052e5"
      },
      "execution_count": 90,
      "outputs": [
        {
          "output_type": "stream",
          "name": "stdout",
          "text": [
            "Enter your Grade: 72\n",
            "Passed\n"
          ]
        }
      ]
    }
  ]
}