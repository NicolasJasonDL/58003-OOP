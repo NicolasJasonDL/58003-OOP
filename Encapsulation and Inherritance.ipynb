{
  "nbformat": 4,
  "nbformat_minor": 0,
  "metadata": {
    "colab": {
      "provenance": [],
      "authorship_tag": "ABX9TyPmGNa4QDhdoVfTS7oQeLwv",
      "include_colab_link": true
    },
    "kernelspec": {
      "name": "python3",
      "display_name": "Python 3"
    },
    "language_info": {
      "name": "python"
    }
  },
  "cells": [
    {
      "cell_type": "markdown",
      "metadata": {
        "id": "view-in-github",
        "colab_type": "text"
      },
      "source": [
        "<a href=\"https://colab.research.google.com/github/NicolasJasonDL/58003-OOP/blob/main/Encapsulation%20and%20Inherritance.ipynb\" target=\"_parent\"><img src=\"https://colab.research.google.com/assets/colab-badge.svg\" alt=\"Open In Colab\"/></a>"
      ]
    },
    {
      "cell_type": "code",
      "execution_count": 32,
      "metadata": {
        "colab": {
          "base_uri": "https://localhost:8080/"
        },
        "id": "-Ian66V2OWGN",
        "outputId": "044ae663-ef38-4c3f-f579-5ee30647b04a"
      },
      "outputs": [
        {
          "output_type": "execute_result",
          "data": {
            "text/plain": [
              "7"
            ]
          },
          "metadata": {},
          "execution_count": 32
        }
      ],
      "source": [
        "class foo:\n",
        "  def __init__(self,a,b):\n",
        "    self.a = a\n",
        "    self.b = b\n",
        "  def add(self):\n",
        "    return self.a+self.b\n",
        "foo_object = foo(3,4)\n",
        "foo_object.add()"
      ]
    },
    {
      "cell_type": "code",
      "source": [
        "class Counter:\n",
        "  def __init__(self,current):\n",
        "    self.current=0\n",
        "\n",
        "  def increment(self):\n",
        "    self.current+=1\n",
        "\n",
        "  def value(self):\n",
        "    return self.current\n",
        "\n",
        "  def reset(self):\n",
        "    self.current = 0\n",
        "\n",
        "  def display_counter(self):\n",
        "    print(\"The increment value is: \",self.increment())\n",
        "    print(\"The current value is: \",self.value())\n",
        "    print(\"Reset: \",self.reset())\n",
        "\n",
        "Counter1 = Counter(0)\n",
        "Counter1.display_counter()"
      ],
      "metadata": {
        "colab": {
          "base_uri": "https://localhost:8080/"
        },
        "id": "IoThbVYCbFvQ",
        "outputId": "36eec2df-5dad-4fba-eb72-c797991c86b9"
      },
      "execution_count": 22,
      "outputs": [
        {
          "output_type": "stream",
          "name": "stdout",
          "text": [
            "The increment value is:  None\n",
            "The current value is:  1\n",
            "Reset:  None\n"
          ]
        }
      ]
    },
    {
      "cell_type": "code",
      "source": [
        "class Person:\n",
        "  def __init__(self,name,birthdate):\n",
        "    self.name = name\n",
        "    self.birthdate = birthdate\n",
        "\n",
        "  def display_identity(self):\n",
        "    print(\"My name is: \",self.name)\n",
        "    print(\"My birthday is: \",self.birthdate)\n",
        "\n",
        "class Teacher(Person):\n",
        "  pass\n",
        "\n",
        "class Student(Person):\n",
        "  pass\n",
        "\n",
        "teacher = Teacher(\"Dio\",\"January 1, 1969\")\n",
        "student = Student(\"Ana\",\"January 23, 2014\")\n",
        "\n",
        "teacher.display_identity()\n",
        "student.display_identity()"
      ],
      "metadata": {
        "colab": {
          "base_uri": "https://localhost:8080/"
        },
        "id": "0oXMNnS5f6UA",
        "outputId": "f5acb2f5-1a1e-4e0b-e1a1-99f852874c58"
      },
      "execution_count": 29,
      "outputs": [
        {
          "output_type": "stream",
          "name": "stdout",
          "text": [
            "My name is:  Dio\n",
            "My birthday is:  January 1, 1969\n",
            "My name is:  Ana\n",
            "My birthday is:  January 23, 2014\n"
          ]
        }
      ]
    },
    {
      "cell_type": "code",
      "source": [
        "#choose 5 example of shape (e.g triangle, square, rectangle, triangle, polygon)\n",
        "#class name is Shape\n",
        "#sides as asstributes\n",
        "#Display() method to show the number of side\n",
        "#Apply Encupculation by mangling (double underscore)\n",
        "#Inherritance\n",
        "\n",
        "class Shape:\n",
        "  def __init__(self,side):\n",
        "    self.side = side\n",
        "  def display_sides(self):\n",
        "    print(self.side,\"Number is the number of this shape\")\n",
        "\n",
        "class Pentagon(Shape):\n",
        "  pass\n",
        "class Hexagon(Shape):\n",
        "  pass\n",
        "class Heptagon(Shape):\n",
        "  pass\n",
        "class Triangle(Shape):\n",
        "  pass\n",
        "class Rectangle(Shape):\n",
        "  pass\n",
        "\n",
        "pentagon = Pentagon(5)\n",
        "hexagon = Hexagon(6)\n",
        "heptagon = Heptagon(7)\n",
        "triangle = Triangle(3)\n",
        "rectangle = Rectangle(4)\n",
        "\n",
        "pentagon.display_sides()\n",
        "hexagon.display_sides()\n",
        "heptagon.display_sides()\n",
        "triangle.display_sides()\n",
        "rectangle.display_sides()"
      ],
      "metadata": {
        "colab": {
          "base_uri": "https://localhost:8080/"
        },
        "id": "RSZe21T2hk-x",
        "outputId": "8c95f56b-e04b-498f-f9c5-22a27159a98c"
      },
      "execution_count": 48,
      "outputs": [
        {
          "output_type": "stream",
          "name": "stdout",
          "text": [
            "5 Number is the number of this shape\n",
            "6 Number is the number of this shape\n",
            "7 Number is the number of this shape\n",
            "3 Number is the number of this shape\n",
            "4 Number is the number of this shape\n"
          ]
        }
      ]
    },
    {
      "cell_type": "code",
      "source": [],
      "metadata": {
        "id": "Uy32l2L8mygw"
      },
      "execution_count": null,
      "outputs": []
    }
  ]
}