{
  "nbformat": 4,
  "nbformat_minor": 0,
  "metadata": {
    "colab": {
      "provenance": [],
      "authorship_tag": "ABX9TyOWvjXIGLx2b4vqrsP+mHEz"
    },
    "kernelspec": {
      "name": "python3",
      "display_name": "Python 3"
    },
    "language_info": {
      "name": "python"
    }
  },
  "cells": [
    {
      "cell_type": "code",
      "execution_count": null,
      "metadata": {
        "id": "4O1067O4pAS1"
      },
      "outputs": [],
      "source": [
        "n = 20\n",
        "totalnumbers = n\n",
        "sum = 0\n",
        "average = 0"
      ]
    },
    {
      "cell_type": "code",
      "source": [
        "while n >= 0:\n",
        "  sum += n\n",
        "  n -= 1\n",
        "\n",
        "else:\n",
        "  print('sum =', sum)"
      ],
      "metadata": {
        "colab": {
          "base_uri": "https://localhost:8080/"
        },
        "id": "iC2i68C5r462",
        "outputId": "e1c5cc0d-d23c-497a-d4ed-050c6b45d8b3"
      },
      "execution_count": null,
      "outputs": [
        {
          "output_type": "stream",
          "name": "stdout",
          "text": [
            "sum = 210\n"
          ]
        }
      ]
    },
    {
      "cell_type": "code",
      "source": [
        "average=sum/totalnumbers\n",
        "print('average =', average)"
      ],
      "metadata": {
        "colab": {
          "base_uri": "https://localhost:8080/"
        },
        "id": "nKm8Cysvua77",
        "outputId": "84effd22-9ee3-4355-e314-eafb2fef09c9"
      },
      "execution_count": null,
      "outputs": [
        {
          "output_type": "stream",
          "name": "stdout",
          "text": [
            "average = 10.5\n"
          ]
        }
      ]
    }
  ]
}