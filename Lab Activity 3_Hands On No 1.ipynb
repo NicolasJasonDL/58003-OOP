{
  "nbformat": 4,
  "nbformat_minor": 0,
  "metadata": {
    "colab": {
      "provenance": [],
      "authorship_tag": "ABX9TyMc9Pgt86us4Tn343sziNn1",
      "include_colab_link": true
    },
    "kernelspec": {
      "name": "python3",
      "display_name": "Python 3"
    },
    "language_info": {
      "name": "python"
    }
  },
  "cells": [
    {
      "cell_type": "markdown",
      "metadata": {
        "id": "view-in-github",
        "colab_type": "text"
      },
      "source": [
        "<a href=\"https://colab.research.google.com/github/NicolasJasonDL/58003-OOP/blob/main/Lab%20Activity%203_Hands%20On%20No%201.ipynb\" target=\"_parent\"><img src=\"https://colab.research.google.com/assets/colab-badge.svg\" alt=\"Open In Colab\"/></a>"
      ]
    },
    {
      "cell_type": "code",
      "execution_count": 58,
      "metadata": {
        "id": "Aik7nZBvPt8b",
        "colab": {
          "base_uri": "https://localhost:8080/"
        },
        "outputId": "e8229b3b-bace-4684-dc24-02e3c8317fdc"
      },
      "outputs": [
        {
          "output_type": "stream",
          "name": "stdout",
          "text": [
            "Student 1 average grade:  30.76666666666667\n"
          ]
        }
      ],
      "source": [
        "class Person():\n",
        "  def __init__(self,std,pre,mid,fin):\n",
        "    self.std = std\n",
        "    self.pre = pre\n",
        "    self.mid = mid\n",
        "    self.fin = fin\n",
        "\n",
        "  def term_grade(self):\n",
        "    return ((pre*0.3)+(mid*0.3)+(fin*0.4))/3\n",
        "\n",
        "\n",
        "std1 = Person(\"Student1\",96,89,92)\n",
        "std2 = Person(\"Student2\",67,74,90)\n",
        "std3 = Person(\"Student3\",70,84,73)\n",
        "\n",
        "print(\"Student 1 average grade: \", std1.term_grade())"
      ]
    }
  ]
}