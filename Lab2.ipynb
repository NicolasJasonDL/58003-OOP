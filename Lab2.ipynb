{
  "nbformat": 4,
  "nbformat_minor": 0,
  "metadata": {
    "colab": {
      "provenance": [],
      "authorship_tag": "ABX9TyOFUvKvaLVJ083yuBZshXdd",
      "include_colab_link": true
    },
    "kernelspec": {
      "name": "python3",
      "display_name": "Python 3"
    },
    "language_info": {
      "name": "python"
    }
  },
  "cells": [
    {
      "cell_type": "markdown",
      "metadata": {
        "id": "view-in-github",
        "colab_type": "text"
      },
      "source": [
        "<a href=\"https://colab.research.google.com/github/NicolasJasonDL/58003-OOP/blob/main/Lab2.ipynb\" target=\"_parent\"><img src=\"https://colab.research.google.com/assets/colab-badge.svg\" alt=\"Open In Colab\"/></a>"
      ]
    },
    {
      "cell_type": "code",
      "source": [
        "import math\n",
        "from  math import pi"
      ],
      "metadata": {
        "id": "NOqYeLDIDi4f"
      },
      "execution_count": 17,
      "outputs": []
    },
    {
      "cell_type": "code",
      "source": [
        "class Circle():\n",
        "  def radius(self,radius):\n",
        "    r = radius\n",
        "\n",
        "  def area(self,r):\n",
        "    area = pi*r*r\n",
        "    print(\"The area of the circle is: \",area)\n",
        "\n",
        "  def perimeter(self,r):\n",
        "    perimeter = 2*pi*r\n",
        "    print(\"The perimeter of the circle is: \",perimeter)\n",
        "\n",
        "NewCircle = Circle()\n",
        "radius = int(input(\"Enter the radius of the circle:\"))\n",
        "NewCircle.area(radius)\n",
        "NewCircle.perimeter(radius)"
      ],
      "metadata": {
        "colab": {
          "base_uri": "https://localhost:8080/"
        },
        "id": "qa4pA2--ALbr",
        "outputId": "68082cac-dd97-4175-d5fb-c006e105009f"
      },
      "execution_count": 49,
      "outputs": [
        {
          "output_type": "stream",
          "name": "stdout",
          "text": [
            "Enter the radius of the circle:6\n",
            "The area of the circle is:  113.09733552923255\n",
            "The perimeter of the circle is:  37.69911184307752\n"
          ]
        }
      ]
    }
  ]
}