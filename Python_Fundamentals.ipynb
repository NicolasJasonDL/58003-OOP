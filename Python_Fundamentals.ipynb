{
  "nbformat": 4,
  "nbformat_minor": 0,
  "metadata": {
    "colab": {
      "provenance": [],
      "authorship_tag": "ABX9TyPcr8eAhgz5G5w0pCZJeugB",
      "include_colab_link": true
    },
    "kernelspec": {
      "name": "python3",
      "display_name": "Python 3"
    },
    "language_info": {
      "name": "python"
    }
  },
  "cells": [
    {
      "cell_type": "markdown",
      "metadata": {
        "id": "view-in-github",
        "colab_type": "text"
      },
      "source": [
        "<a href=\"https://colab.research.google.com/github/NicolasJasonDL/58003-OOP/blob/main/Python_Fundamentals.ipynb\" target=\"_parent\"><img src=\"https://colab.research.google.com/assets/colab-badge.svg\" alt=\"Open In Colab\"/></a>"
      ]
    },
    {
      "cell_type": "markdown",
      "source": [
        "##Introduction to Python Fundamentals"
      ],
      "metadata": {
        "id": "YMnbkXJcFLDP"
      }
    },
    {
      "cell_type": "code",
      "source": [
        "#output variable\n",
        "x = \"NicolasJason\"\n",
        "print(x)\n",
        "x = \"enjoying\"\n",
        "print (\"python programming is \" + x)"
      ],
      "metadata": {
        "colab": {
          "base_uri": "https://localhost:8080/"
        },
        "id": "NTbd6N8mNrOR",
        "outputId": "6264ec94-940e-409c-e854-ec9d289bd286"
      },
      "execution_count": 1,
      "outputs": [
        {
          "output_type": "stream",
          "name": "stdout",
          "text": [
            "NicolasJason\n",
            "python programming is enjoying\n"
          ]
        }
      ]
    },
    {
      "cell_type": "code",
      "source": [
        "#python indentation\n",
        "if 5>2:\n",
        "  print(\"5 is greater than 2\")"
      ],
      "metadata": {
        "colab": {
          "base_uri": "https://localhost:8080/"
        },
        "id": "ppckk52vFNjw",
        "outputId": "5aa6ef75-e7f4-4719-b8f1-a1d0ccfc9e3f"
      },
      "execution_count": null,
      "outputs": [
        {
          "output_type": "stream",
          "name": "stdout",
          "text": [
            "5 is greater than 2\n"
          ]
        }
      ]
    },
    {
      "cell_type": "code",
      "source": [
        "#declaration of value\n",
        "x = 5\n",
        "y = 2\n",
        "\n",
        "if x>y:\n",
        "  print(\"5 is greater than 2\")\n",
        "elif x<y:\n",
        "  print(\"2 is greater than 5\")\n",
        "else:\n",
        "  print (\"5 and 2 are equal\")"
      ],
      "metadata": {
        "colab": {
          "base_uri": "https://localhost:8080/"
        },
        "id": "uKXMXGD5Hhu4",
        "outputId": "cd3553a7-d5e2-4392-a335-8c7d1d942dbe"
      },
      "execution_count": null,
      "outputs": [
        {
          "output_type": "stream",
          "name": "stdout",
          "text": [
            "5 is greater than 2\n"
          ]
        }
      ]
    },
    {
      "cell_type": "code",
      "source": [
        "#python variable\n",
        "a = 0\n",
        "b = -1\n",
        "\n",
        "print(a)"
      ],
      "metadata": {
        "colab": {
          "base_uri": "https://localhost:8080/"
        },
        "id": "PSHE9tiSIVaY",
        "outputId": "18e8df05-0831-49ee-d1f6-f6cddb14eda4"
      },
      "execution_count": null,
      "outputs": [
        {
          "output_type": "stream",
          "name": "stdout",
          "text": [
            "0\n"
          ]
        }
      ]
    },
    {
      "cell_type": "code",
      "source": [
        "\n",
        "#python variable with multiple values\n",
        "a = 0\n",
        "b = -1\n",
        "c = -2\n",
        "print(a)\n",
        "print(b)\n",
        "print(c)"
      ],
      "metadata": {
        "colab": {
          "base_uri": "https://localhost:8080/"
        },
        "id": "7bZ8Ld0hLbkA",
        "outputId": "22b9c67c-93f0-4664-b7ce-02f672310e80"
      },
      "execution_count": null,
      "outputs": [
        {
          "output_type": "stream",
          "name": "stdout",
          "text": [
            "0\n",
            "-1\n",
            "-2\n"
          ]
        }
      ]
    },
    {
      "cell_type": "code",
      "source": [
        "a = 1\n",
        "b = 2\n",
        "c = 3\n",
        "print(a)"
      ],
      "metadata": {
        "colab": {
          "base_uri": "https://localhost:8080/"
        },
        "id": "C4T5G6OfMF1Z",
        "outputId": "353a5ecb-52c9-4d22-bb45-cc1b1b3e3035"
      },
      "execution_count": null,
      "outputs": [
        {
          "output_type": "stream",
          "name": "stdout",
          "text": [
            "1\n"
          ]
        }
      ]
    },
    {
      "cell_type": "code",
      "source": [
        "#single variable with multiple values\n",
        "a = b = c = 4.5\n",
        "print(a)\n",
        "print(b)\n",
        "print(c)"
      ],
      "metadata": {
        "colab": {
          "base_uri": "https://localhost:8080/"
        },
        "id": "UYGvQ55lML9A",
        "outputId": "8ecbbe92-369a-4392-8543-30e42c92c607"
      },
      "execution_count": null,
      "outputs": [
        {
          "output_type": "stream",
          "name": "stdout",
          "text": [
            "4.5\n",
            "4.5\n",
            "4.5\n"
          ]
        }
      ]
    },
    {
      "cell_type": "code",
      "source": [
        "print(type(a))"
      ],
      "metadata": {
        "colab": {
          "base_uri": "https://localhost:8080/"
        },
        "id": "u8Hf6dEIMqCg",
        "outputId": "59c2af26-128e-422f-ff3a-238a1b8a48c7"
      },
      "execution_count": null,
      "outputs": [
        {
          "output_type": "stream",
          "name": "stdout",
          "text": [
            "<class 'float'>\n"
          ]
        }
      ]
    },
    {
      "cell_type": "markdown",
      "source": [
        "#Casting"
      ],
      "metadata": {
        "id": "RsvVq65AdKmM"
      }
    },
    {
      "cell_type": "code",
      "source": [
        "\n",
        "a = \"Sally\"\n",
        "b = int(4)\n",
        "print(b)\n",
        "b = float (4)\n",
        "print(b)"
      ],
      "metadata": {
        "id": "ZCGSfTbQOSqK",
        "colab": {
          "base_uri": "https://localhost:8080/"
        },
        "outputId": "a052f6af-6142-4d5b-a481-14cdd829036e"
      },
      "execution_count": 2,
      "outputs": [
        {
          "output_type": "stream",
          "name": "stdout",
          "text": [
            "4\n",
            "4.0\n"
          ]
        }
      ]
    },
    {
      "cell_type": "markdown",
      "source": [
        "#Type() Function"
      ],
      "metadata": {
        "id": "_ICsjpZKdNfM"
      }
    },
    {
      "cell_type": "code",
      "source": [
        "a = \"Sally\"\n",
        "print(type(a))"
      ],
      "metadata": {
        "colab": {
          "base_uri": "https://localhost:8080/"
        },
        "id": "Ka_wsgmndH-M",
        "outputId": "c7bccf53-9322-43a3-92fb-ea5f3a5c27a7"
      },
      "execution_count": 3,
      "outputs": [
        {
          "output_type": "stream",
          "name": "stdout",
          "text": [
            "<class 'str'>\n"
          ]
        }
      ]
    },
    {
      "cell_type": "markdown",
      "source": [
        "#Double or Single quotes"
      ],
      "metadata": {
        "id": "J09WQuCod2Dk"
      }
    },
    {
      "cell_type": "code",
      "source": [
        "y = \"John\"\n",
        "y = 'John'\n",
        "print(y)"
      ],
      "metadata": {
        "colab": {
          "base_uri": "https://localhost:8080/"
        },
        "id": "NOBzo70rd5gM",
        "outputId": "947c01de-cee0-44d7-e50d-658f9f1a18c4"
      },
      "execution_count": 7,
      "outputs": [
        {
          "output_type": "stream",
          "name": "stdout",
          "text": [
            "John\n"
          ]
        }
      ]
    },
    {
      "cell_type": "code",
      "source": [
        "Y = \"Ana\"\n",
        "y = 'John'\n",
        "print(Y)\n",
        "print(y)"
      ],
      "metadata": {
        "colab": {
          "base_uri": "https://localhost:8080/"
        },
        "id": "ev4l5YcBernc",
        "outputId": "3b59e857-6c4f-45da-cca0-4cfc2511507a"
      },
      "execution_count": 6,
      "outputs": [
        {
          "output_type": "stream",
          "name": "stdout",
          "text": [
            "Ana\n",
            "John\n"
          ]
        }
      ]
    },
    {
      "cell_type": "code",
      "source": [
        "a = \"Maria\"\n",
        "print(a)"
      ],
      "metadata": {
        "colab": {
          "base_uri": "https://localhost:8080/"
        },
        "id": "hQfMBrm5elNz",
        "outputId": "1f512874-a3f3-47aa-cd43-e7d371516678"
      },
      "execution_count": 5,
      "outputs": [
        {
          "output_type": "stream",
          "name": "stdout",
          "text": [
            "Maria\n"
          ]
        }
      ]
    },
    {
      "cell_type": "code",
      "source": [
        "print(y)"
      ],
      "metadata": {
        "colab": {
          "base_uri": "https://localhost:8080/"
        },
        "id": "5RKL_7Nge41k",
        "outputId": "302974bf-9f8f-405f-b80f-b53197b222f1"
      },
      "execution_count": 8,
      "outputs": [
        {
          "output_type": "stream",
          "name": "stdout",
          "text": [
            "John\n"
          ]
        }
      ]
    },
    {
      "cell_type": "markdown",
      "source": [
        "#Concatenation"
      ],
      "metadata": {
        "id": "iHyPZkWWe-8h"
      }
    },
    {
      "cell_type": "code",
      "source": [
        "k = \"Python is\"\n",
        "l = \" enjoying\"\n",
        "print(k+l)"
      ],
      "metadata": {
        "colab": {
          "base_uri": "https://localhost:8080/"
        },
        "id": "NlBF_QA_fESz",
        "outputId": "e4f043f8-c24c-4304-a916-f546e0b4e5ef"
      },
      "execution_count": 10,
      "outputs": [
        {
          "output_type": "stream",
          "name": "stdout",
          "text": [
            "Python is enjoying\n"
          ]
        }
      ]
    },
    {
      "cell_type": "code",
      "source": [
        "l = \"enjoying\"\n",
        "print(\"Python is \" + l)"
      ],
      "metadata": {
        "colab": {
          "base_uri": "https://localhost:8080/"
        },
        "id": "RME4zbunfacL",
        "outputId": "22a5f2c6-a1c1-417d-8c9b-06a7b086497f"
      },
      "execution_count": 13,
      "outputs": [
        {
          "output_type": "stream",
          "name": "stdout",
          "text": [
            "Python is enjoying\n"
          ]
        }
      ]
    },
    {
      "cell_type": "code",
      "source": [
        "x = \"Python is\"\n",
        "y = \" enjoying\"\n",
        "z = x + y\n",
        "print(z)"
      ],
      "metadata": {
        "colab": {
          "base_uri": "https://localhost:8080/"
        },
        "id": "2yiOtn6agKCb",
        "outputId": "313b6ed3-5360-4ad3-f90e-40632794e99d"
      },
      "execution_count": 16,
      "outputs": [
        {
          "output_type": "stream",
          "name": "stdout",
          "text": [
            "Python is enjoying\n"
          ]
        }
      ]
    }
  ]
}