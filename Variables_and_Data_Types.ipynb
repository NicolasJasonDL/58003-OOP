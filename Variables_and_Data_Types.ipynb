{
  "nbformat": 4,
  "nbformat_minor": 0,
  "metadata": {
    "colab": {
      "provenance": [],
      "authorship_tag": "ABX9TyM09N2MFoPiP4sfY+ATSTMS",
      "include_colab_link": true
    },
    "kernelspec": {
      "name": "python3",
      "display_name": "Python 3"
    },
    "language_info": {
      "name": "python"
    }
  },
  "cells": [
    {
      "cell_type": "markdown",
      "metadata": {
        "id": "view-in-github",
        "colab_type": "text"
      },
      "source": [
        "<a href=\"https://colab.research.google.com/github/NicolasJasonDL/58003-OOP/blob/main/Variables_and_Data_Types.ipynb\" target=\"_parent\"><img src=\"https://colab.research.google.com/assets/colab-badge.svg\" alt=\"Open In Colab\"/></a>"
      ]
    },
    {
      "cell_type": "code",
      "execution_count": null,
      "metadata": {
        "id": "ZQXN_LZC_aV-"
      },
      "outputs": [],
      "source": [
        "fruits = ['abc', 1,3,1]\n",
        "print(fruits)\n",
        "fruits.insert(2,2)\n",
        "print(fruits)"
      ]
    },
    {
      "cell_type": "code",
      "source": [
        "class Person:\n",
        "  def __init__(self,name,age):\n",
        "    self.name = name\n",
        "    self.age = age\n",
        "\n",
        "student = Person(\"ana\",20)\n",
        "teacher = Person(\"Maam Sayo\",40)\n",
        "print(student.name)\n",
        "print(student.age)\n",
        "\n",
        "print(teacher.name)\n",
        "print(teacher.age)"
      ],
      "metadata": {
        "colab": {
          "base_uri": "https://localhost:8080/"
        },
        "id": "cmcr2t2ICD04",
        "outputId": "2f3a04a3-c74b-4cdd-dc15-d16ca7a8b26b"
      },
      "execution_count": 17,
      "outputs": [
        {
          "output_type": "stream",
          "name": "stdout",
          "text": [
            "ana\n",
            "20\n",
            "Maam Sayo\n",
            "40\n"
          ]
        }
      ]
    },
    {
      "cell_type": "code",
      "source": [
        "class Shapes:\n",
        "  def __init__(self,length,width):\n",
        "    self.length = length\n",
        "    self.width = width\n",
        "\n",
        "  def area_rec(self):\n",
        "    return self.length*self.width\n",
        "\n",
        "rectangle=Shapes(10,5)\n",
        "rectangle.area_rec()"
      ],
      "metadata": {
        "colab": {
          "base_uri": "https://localhost:8080/"
        },
        "id": "BV8htToRFdQT",
        "outputId": "cc3c4643-32be-400b-d19a-7aaad8a74003"
      },
      "execution_count": 25,
      "outputs": [
        {
          "output_type": "execute_result",
          "data": {
            "text/plain": [
              "50"
            ]
          },
          "metadata": {},
          "execution_count": 25
        }
      ]
    },
    {
      "cell_type": "code",
      "source": [
        "pi = 3.14159\n",
        "varList = [1,2,\"A\",\"B\",\"Hello\",pi]\n",
        "print(varList[0])\n",
        "print(varList[4])"
      ],
      "metadata": {
        "colab": {
          "base_uri": "https://localhost:8080/"
        },
        "id": "ByFEblORFczj",
        "outputId": "c81c3c1a-7426-4617-f2f7-de9daacd1534"
      },
      "execution_count": 26,
      "outputs": [
        {
          "output_type": "stream",
          "name": "stdout",
          "text": [
            "1\n",
            "Hello\n"
          ]
        }
      ]
    },
    {
      "cell_type": "code",
      "source": [
        "varList.append(5)\n",
        "print(varList)"
      ],
      "metadata": {
        "colab": {
          "base_uri": "https://localhost:8080/"
        },
        "id": "eV1cN0XaKkG8",
        "outputId": "ab86ec5a-2117-415f-df93-ed385998397b"
      },
      "execution_count": 36,
      "outputs": [
        {
          "output_type": "stream",
          "name": "stdout",
          "text": [
            "[1, 2, 'A', 'B', 'Hello', 5, 5, 5, 5, 5]\n"
          ]
        }
      ]
    },
    {
      "cell_type": "code",
      "source": [
        "varList.remove(2)\n",
        "print(varList)"
      ],
      "metadata": {
        "colab": {
          "base_uri": "https://localhost:8080/"
        },
        "id": "Xz5B6RAwJuEu",
        "outputId": "289bbe5e-7bc7-4d76-93d0-f3de021087bb"
      },
      "execution_count": 38,
      "outputs": [
        {
          "output_type": "stream",
          "name": "stdout",
          "text": [
            "[1, 'A', 'B', 'Hello', 5, 5, 5, 5, 5]\n"
          ]
        }
      ]
    },
    {
      "cell_type": "code",
      "source": [
        "var = \"Hello, World!\"\n",
        "varDict = {'first' : 123, 2 : 'abc', '3' : var, 4: ['lista','listb']}\n",
        "\n",
        "print (varDict['first'])\n",
        "print (varDict ['3'])\n",
        "print (varDict[4])\n",
        "print (varDict)"
      ],
      "metadata": {
        "colab": {
          "base_uri": "https://localhost:8080/"
        },
        "id": "1zWIl3apKOBM",
        "outputId": "4b64eb15-ec55-4c51-f751-e463a86dd625"
      },
      "execution_count": 41,
      "outputs": [
        {
          "output_type": "stream",
          "name": "stdout",
          "text": [
            "123\n",
            "Hello, World!\n",
            "['lista', 'listb']\n",
            "{'first': 123, 2: 'abc', '3': 'Hello, World!', 4: ['lista', 'listb']}\n"
          ]
        }
      ]
    },
    {
      "cell_type": "code",
      "source": [
        "varList = [1,2,3,4,5,6,7,8,9,10]\n",
        "print (varList[5:])\n",
        "print (varList[:6])\n",
        "print (varList[2:8])\n",
        "print (varList[1:10:2])"
      ],
      "metadata": {
        "colab": {
          "base_uri": "https://localhost:8080/"
        },
        "id": "5IkZ8Mx_MmFV",
        "outputId": "cdb86ba5-b685-40b7-dc75-236892d0679d"
      },
      "execution_count": 52,
      "outputs": [
        {
          "output_type": "stream",
          "name": "stdout",
          "text": [
            "[6, 7, 8, 9, 10]\n",
            "[1, 2, 3, 4, 5, 6]\n",
            "[3, 4, 5, 6, 7, 8]\n",
            "[2, 4, 6, 8, 10]\n",
            "[1, 2]\n",
            "[1, 2]\n"
          ]
        }
      ]
    },
    {
      "cell_type": "code",
      "source": [
        "print (varList[:2])\n",
        "print (varList[:-8])"
      ],
      "metadata": {
        "colab": {
          "base_uri": "https://localhost:8080/"
        },
        "id": "R1gnqUJ3O-uu",
        "outputId": "086ccce9-80a3-4c58-d0f1-f7b905f7617d"
      },
      "execution_count": 53,
      "outputs": [
        {
          "output_type": "stream",
          "name": "stdout",
          "text": [
            "[1, 2]\n",
            "[1, 2]\n"
          ]
        }
      ]
    }
  ]
}